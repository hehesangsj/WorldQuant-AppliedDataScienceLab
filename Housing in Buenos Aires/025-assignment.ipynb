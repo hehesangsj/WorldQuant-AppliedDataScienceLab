{
 "cells": [
  {
   "cell_type": "markdown",
   "id": "83c74561",
   "metadata": {
    "deletable": false,
    "editable": false
   },
   "source": [
    "\n",
    "<div class=\"alert alert-info\" role=\"alert\">\n",
    "  <p>\n",
    "    <b>Usage Guidelines</b>\n",
    "  </p>\n",
    "\n",
    "  <p>\n",
    "    This lesson is part of the <b>DS Lab core curriculum</b>. For that reason, this notebook can only be used on your WQU virtual machine.\n",
    "  </p>\n",
    "\n",
    "  <p>\n",
    "    This means:\n",
    "    <ul>\n",
    "      <li><span style=\"color: red\">ⓧ</span> No downloading this notebook.</li>\n",
    "      <li><span style=\"color: red\">ⓧ</span> No re-sharing of this notebook with friends or colleagues.</li>\n",
    "      <li><span style=\"color: red\">ⓧ</span> No downloading the embedded videos in this notebook.</li>\n",
    "      <li><span style=\"color: red\">ⓧ</span> No re-sharing embedded videos with friends or colleagues.</li>\n",
    "      <li><span style=\"color: red\">ⓧ</span> No adding this notebook to public or private repositories.</li>\n",
    "      <li><span style=\"color: red\">ⓧ</span> No uploading this notebook (or screenshots of it) to other websites, including websites for study resources.</li>\n",
    "    </ul>\n",
    "\n",
    "  </p>\n",
    "</div>\n"
   ]
  },
  {
   "cell_type": "markdown",
   "id": "ae4915db-8035-4c92-b3c7-64a9053573d7",
   "metadata": {
    "deletable": false,
    "editable": false
   },
   "source": [
    "<font size=\"+3\"><strong>2.5. Predicting Apartment Prices in Mexico City 🇲🇽</strong></font>"
   ]
  },
  {
   "cell_type": "code",
   "execution_count": 1,
   "id": "24b9800e-3a72-4b08-af3d-65da4d226b69",
   "metadata": {
    "deletable": false,
    "editable": false,
    "init_cell": true,
    "tags": []
   },
   "outputs": [
    {
     "data": {
      "text/html": [
       "\n",
       "<style>\n",
       "  \n",
       "  .checkmark {\n",
       "    width: 56px;\n",
       "    height: 56px;\n",
       "    border-radius: 50%;\n",
       "    display: block;\n",
       "    stroke-width: 2;\n",
       "    stroke: #fff;\n",
       "    stroke-miterlimit: 10;\n",
       "    box-shadow: inset 0px 0px 0px #7ac142;\n",
       "    animation: fill .4s ease-in-out .4s forwards, scale .3s ease-in-out .9s both;\n",
       "  }\n",
       "  \n",
       "  .checkmark__circle {\n",
       "    stroke-dasharray: 166;\n",
       "    stroke-dashoffset: 166;\n",
       "    stroke-width: 2;\n",
       "    stroke-miterlimit: 10;\n",
       "    stroke: #7ac142;\n",
       "    fill: none;\n",
       "    animation: stroke .6s cubic-bezier(0.650, 0.000, 0.450, 1.000) forwards;\n",
       "  }\n",
       "  \n",
       "  .checkmark__check {\n",
       "    transform-origin: 50% 50%;\n",
       "    stroke-dasharray: 48;\n",
       "    stroke-dashoffset: 48;\n",
       "    animation: stroke .3s cubic-bezier(0.650, 0.000, 0.450, 1.000) .8s forwards;\n",
       "  }\n",
       "  \n",
       "  .failmark {\n",
       "    width: 56px;\n",
       "    height: 56px;\n",
       "    border-radius: 50%;\n",
       "    display: block;\n",
       "    stroke-width: 2;\n",
       "    stroke: #fff;\n",
       "    stroke-miterlimit: 10;\n",
       "    box-shadow: inset 0px 0px 0px #F34811;\n",
       "    animation: failfill .4s ease-in-out .4s forwards, scale .3s ease-in-out .9s both;\n",
       "  }\n",
       "  \n",
       "  .failmark__circle {\n",
       "    stroke-dasharray: 166;\n",
       "    stroke-dashoffset: 166;\n",
       "    stroke-width: 2;\n",
       "    stroke-miterlimit: 10;\n",
       "    stroke: #F34811;\n",
       "    fill: none;\n",
       "    animation: stroke .6s cubic-bezier(0.650, 0.000, 0.450, 1.000) forwards;\n",
       "  }\n",
       "  \n",
       "  @keyframes stroke {\n",
       "    100% {\n",
       "      stroke-dashoffset: 0;\n",
       "    }\n",
       "  }\n",
       "  \n",
       "  @keyframes scale {\n",
       "    0%, 100% {\n",
       "      transform: none;\n",
       "    }\n",
       "    50% {\n",
       "      transform: scale3d(1.1, 1.1, 1);\n",
       "    }\n",
       "  }\n",
       "  \n",
       "  @keyframes fill {\n",
       "    100% {\n",
       "      box-shadow: inset 0px 0px 0px 30px #7ac142;\n",
       "    }\n",
       "  }\n",
       "  \n",
       "  @keyframes failfill {\n",
       "    100% {\n",
       "      box-shadow: inset 0px 0px 0px 30px #F34811;\n",
       "    }\n",
       "  }\n",
       "  \n",
       "  \n",
       "  .wqet-result {\n",
       "    width: 450px;\n",
       "    clear: both;\n",
       "  }\n",
       "  \n",
       "  .wqet-result .animation {\n",
       "    float: left;\n",
       "    width: 100px;\n",
       "  }\n",
       "  \n",
       "  .wqet-result .animation .checkmark,\n",
       "  .wqet-result .animation .failmark {\n",
       "    margin: 20px auto 20px auto;\n",
       "  }\n",
       "  \n",
       "  .wqet-result .details {\n",
       "    float: right;\n",
       "    width: 349px;\n",
       "    padding: 28px 0;\n",
       "  }\n",
       "  \n",
       "  .wqet-result .details .title {\n",
       "    font-weight: bold;\n",
       "    font-size: 110%;\n",
       "  }\n",
       "  .wqet-result .details p {\n",
       "    margin: 0;\n",
       "  }\n",
       "</style>\n"
      ],
      "text/plain": [
       "<IPython.core.display.HTML object>"
      ]
     },
     "metadata": {},
     "output_type": "display_data"
    }
   ],
   "source": [
    "import warnings\n",
    "\n",
    "import wqet_grader\n",
    "\n",
    "warnings.simplefilter(action=\"ignore\", category=FutureWarning)\n",
    "wqet_grader.init(\"Project 2 Assessment\")"
   ]
  },
  {
   "cell_type": "markdown",
   "id": "a6ded91c-61c9-434b-a63f-3c129ecc389a",
   "metadata": {
    "deletable": false,
    "editable": false
   },
   "source": [
    "<div class=\"alert alert-block alert-warning\">\n",
    "    <b>Note:</b> In this project there are graded tasks in both the lesson notebooks and in this assignment. Together they total 24 points. The minimum score you need to move to the next project is 22 points. Once you get 22 points, you will be enrolled automatically in the next project, and this assignment will be closed. This means that you might not be able to complete the last two tasks in this notebook. If you get an error message saying that you've already passed the course, that's good news. You can stop this assignment and move onto the project 3. \n",
    "</div>"
   ]
  },
  {
   "cell_type": "markdown",
   "id": "e7b2f0fe-fdcf-4c4e-8243-de6bd3f3bffc",
   "metadata": {
    "deletable": false,
    "editable": false
   },
   "source": [
    "In this assignment, you'll decide which libraries you need to complete the tasks. You can import them in the cell below. 👇"
   ]
  },
  {
   "cell_type": "code",
   "execution_count": 2,
   "id": "0cd1db04-5733-4a88-8216-210aa4b19c2d",
   "metadata": {
    "deletable": false
   },
   "outputs": [],
   "source": [
    "# Import libraries here\n",
    "import pandas as pd\n",
    "import numpy as np"
   ]
  },
  {
   "cell_type": "markdown",
   "id": "79e44a81-1eef-4bc6-8151-1a86d5844fb4",
   "metadata": {
    "deletable": false,
    "editable": false
   },
   "source": [
    "# Prepare Data"
   ]
  },
  {
   "cell_type": "markdown",
   "id": "99c6bc6c-50d9-4e5c-9289-a6ef21d43bfd",
   "metadata": {
    "deletable": false,
    "editable": false
   },
   "source": [
    "## Import"
   ]
  },
  {
   "cell_type": "markdown",
   "id": "3b3dccdb-08cc-4e5b-bd8a-509114410864",
   "metadata": {
    "deletable": false,
    "editable": false
   },
   "source": [
    "**Task 2.5.1:** Write a `wrangle` function that takes the name of a CSV file as input and returns a DataFrame. The function should do the following steps:\n",
    "\n",
    "1. Subset the data in the CSV file and return only apartments in Mexico City (`\"Distrito Federal\"`) that cost less than \\$100,000.\n",
    "2. Remove outliers by trimming the bottom and top 10\\% of properties in terms of `\"surface_covered_in_m2\"`.\n",
    "3. Create separate `\"lat\"` and `\"lon\"` columns.\n",
    "4. Mexico City is divided into [15 boroughs](https://en.wikipedia.org/wiki/Boroughs_of_Mexico_City). Create a `\"borough\"` feature from the `\"place_with_parent_names\"` column.\n",
    "5. Drop columns that are more than 50\\% null values.\n",
    "6. Drop columns containing low- or high-cardinality categorical values. \n",
    "7. Drop any columns that would constitute leakage for the target `\"price_aprox_usd\"`.\n",
    "8. Drop any columns that would create issues of multicollinearity. \n",
    "\n",
    "<div class=\"alert alert-block alert-info\">\n",
    "<b>Tip:</b> Don't try to satisfy all the criteria in the first version of your <code>wrangle</code> function. Instead, work iteratively. Start with the first criteria, test it out with one of the Mexico CSV files in the <code>data/</code> directory, and submit it to the grader for feedback. Then add the next criteria.</div>"
   ]
  },
  {
   "cell_type": "code",
   "execution_count": 3,
   "id": "60ac8edf-6d8f-428e-ad14-34522a16f83e",
   "metadata": {},
   "outputs": [
    {
     "data": {
      "text/html": [
       "<div>\n",
       "<style scoped>\n",
       "    .dataframe tbody tr th:only-of-type {\n",
       "        vertical-align: middle;\n",
       "    }\n",
       "\n",
       "    .dataframe tbody tr th {\n",
       "        vertical-align: top;\n",
       "    }\n",
       "\n",
       "    .dataframe thead th {\n",
       "        text-align: right;\n",
       "    }\n",
       "</style>\n",
       "<table border=\"1\" class=\"dataframe\">\n",
       "  <thead>\n",
       "    <tr style=\"text-align: right;\">\n",
       "      <th></th>\n",
       "      <th>operation</th>\n",
       "      <th>property_type</th>\n",
       "      <th>place_with_parent_names</th>\n",
       "      <th>lat-lon</th>\n",
       "      <th>price</th>\n",
       "      <th>currency</th>\n",
       "      <th>price_aprox_local_currency</th>\n",
       "      <th>price_aprox_usd</th>\n",
       "      <th>surface_total_in_m2</th>\n",
       "      <th>surface_covered_in_m2</th>\n",
       "      <th>price_usd_per_m2</th>\n",
       "      <th>price_per_m2</th>\n",
       "      <th>floor</th>\n",
       "      <th>rooms</th>\n",
       "      <th>expenses</th>\n",
       "      <th>properati_url</th>\n",
       "    </tr>\n",
       "  </thead>\n",
       "  <tbody>\n",
       "    <tr>\n",
       "      <th>0</th>\n",
       "      <td>sell</td>\n",
       "      <td>apartment</td>\n",
       "      <td>|Miguel Hidalgo|Distrito Federal|México|</td>\n",
       "      <td>23.634501,-102.552788</td>\n",
       "      <td>5500000.0</td>\n",
       "      <td>MXN</td>\n",
       "      <td>5450245.50</td>\n",
       "      <td>289775.66</td>\n",
       "      <td>NaN</td>\n",
       "      <td>54.0</td>\n",
       "      <td>NaN</td>\n",
       "      <td>101851.851852</td>\n",
       "      <td>NaN</td>\n",
       "      <td>NaN</td>\n",
       "      <td>NaN</td>\n",
       "      <td>http://miguel-hidalgo-df.properati.com.mx/o3zb...</td>\n",
       "    </tr>\n",
       "    <tr>\n",
       "      <th>1</th>\n",
       "      <td>sell</td>\n",
       "      <td>house</td>\n",
       "      <td>|Iztapalapa|Distrito Federal|México|</td>\n",
       "      <td>19.31033,-99.068557</td>\n",
       "      <td>1512000.0</td>\n",
       "      <td>MXN</td>\n",
       "      <td>1498321.97</td>\n",
       "      <td>79661.96</td>\n",
       "      <td>NaN</td>\n",
       "      <td>80.0</td>\n",
       "      <td>NaN</td>\n",
       "      <td>18900.000000</td>\n",
       "      <td>NaN</td>\n",
       "      <td>NaN</td>\n",
       "      <td>NaN</td>\n",
       "      <td>http://iztapalapa.properati.com.mx/q7t0_venta_...</td>\n",
       "    </tr>\n",
       "    <tr>\n",
       "      <th>2</th>\n",
       "      <td>sell</td>\n",
       "      <td>apartment</td>\n",
       "      <td>|Tlalpan|Distrito Federal|México|</td>\n",
       "      <td>19.279771,-99.234597</td>\n",
       "      <td>926667.0</td>\n",
       "      <td>MXN</td>\n",
       "      <td>918284.00</td>\n",
       "      <td>48822.82</td>\n",
       "      <td>NaN</td>\n",
       "      <td>100.0</td>\n",
       "      <td>NaN</td>\n",
       "      <td>9266.670000</td>\n",
       "      <td>NaN</td>\n",
       "      <td>NaN</td>\n",
       "      <td>NaN</td>\n",
       "      <td>http://tlalpan.properati.com.mx/qbi4_venta_dep...</td>\n",
       "    </tr>\n",
       "    <tr>\n",
       "      <th>3</th>\n",
       "      <td>sell</td>\n",
       "      <td>apartment</td>\n",
       "      <td>|Miguel Hidalgo|Distrito Federal|México|</td>\n",
       "      <td>23.634501,-102.552788</td>\n",
       "      <td>6410000.0</td>\n",
       "      <td>MXN</td>\n",
       "      <td>6352013.39</td>\n",
       "      <td>337720.36</td>\n",
       "      <td>NaN</td>\n",
       "      <td>135.0</td>\n",
       "      <td>NaN</td>\n",
       "      <td>47481.481481</td>\n",
       "      <td>NaN</td>\n",
       "      <td>NaN</td>\n",
       "      <td>NaN</td>\n",
       "      <td>http://miguel-hidalgo-df.properati.com.mx/opeq...</td>\n",
       "    </tr>\n",
       "    <tr>\n",
       "      <th>5</th>\n",
       "      <td>sell</td>\n",
       "      <td>apartment</td>\n",
       "      <td>|Miguel Hidalgo|Distrito Federal|México|</td>\n",
       "      <td>19.432657,-99.177444</td>\n",
       "      <td>4416000.0</td>\n",
       "      <td>MXN</td>\n",
       "      <td>4376051.62</td>\n",
       "      <td>232663.51</td>\n",
       "      <td>NaN</td>\n",
       "      <td>87.0</td>\n",
       "      <td>NaN</td>\n",
       "      <td>50758.620690</td>\n",
       "      <td>NaN</td>\n",
       "      <td>NaN</td>\n",
       "      <td>NaN</td>\n",
       "      <td>http://anzures.properati.com.mx/opct_venta_dep...</td>\n",
       "    </tr>\n",
       "    <tr>\n",
       "      <th>...</th>\n",
       "      <td>...</td>\n",
       "      <td>...</td>\n",
       "      <td>...</td>\n",
       "      <td>...</td>\n",
       "      <td>...</td>\n",
       "      <td>...</td>\n",
       "      <td>...</td>\n",
       "      <td>...</td>\n",
       "      <td>...</td>\n",
       "      <td>...</td>\n",
       "      <td>...</td>\n",
       "      <td>...</td>\n",
       "      <td>...</td>\n",
       "      <td>...</td>\n",
       "      <td>...</td>\n",
       "      <td>...</td>\n",
       "    </tr>\n",
       "    <tr>\n",
       "      <th>4621</th>\n",
       "      <td>sell</td>\n",
       "      <td>apartment</td>\n",
       "      <td>|Gustavo A. Madero|Distrito Federal|México|</td>\n",
       "      <td>NaN</td>\n",
       "      <td>2300000.0</td>\n",
       "      <td>MXN</td>\n",
       "      <td>2279733.89</td>\n",
       "      <td>121207.64</td>\n",
       "      <td>0.0</td>\n",
       "      <td>88.0</td>\n",
       "      <td>NaN</td>\n",
       "      <td>26136.363636</td>\n",
       "      <td>NaN</td>\n",
       "      <td>NaN</td>\n",
       "      <td>NaN</td>\n",
       "      <td>http://gustavo-a-madero.properati.com.mx/pluf_...</td>\n",
       "    </tr>\n",
       "    <tr>\n",
       "      <th>4622</th>\n",
       "      <td>sell</td>\n",
       "      <td>apartment</td>\n",
       "      <td>|Venustiano Carranza|Distrito Federal|México|</td>\n",
       "      <td>19.4495981,-99.1246689</td>\n",
       "      <td>1140917.0</td>\n",
       "      <td>MXN</td>\n",
       "      <td>1141529.80</td>\n",
       "      <td>60692.23</td>\n",
       "      <td>58.0</td>\n",
       "      <td>NaN</td>\n",
       "      <td>1046.417759</td>\n",
       "      <td>NaN</td>\n",
       "      <td>NaN</td>\n",
       "      <td>NaN</td>\n",
       "      <td>NaN</td>\n",
       "      <td>http://venustiano-carranza.properati.com.mx/r7...</td>\n",
       "    </tr>\n",
       "    <tr>\n",
       "      <th>4624</th>\n",
       "      <td>sell</td>\n",
       "      <td>apartment</td>\n",
       "      <td>|Tlalpan|Distrito Federal|México|</td>\n",
       "      <td>19.303758,-99.223733</td>\n",
       "      <td>10000000.0</td>\n",
       "      <td>MXN</td>\n",
       "      <td>10144274.75</td>\n",
       "      <td>539345.23</td>\n",
       "      <td>200.0</td>\n",
       "      <td>NaN</td>\n",
       "      <td>2696.726150</td>\n",
       "      <td>NaN</td>\n",
       "      <td>NaN</td>\n",
       "      <td>NaN</td>\n",
       "      <td>NaN</td>\n",
       "      <td>http://lomas-del-pedregal.properati.com.mx/pym...</td>\n",
       "    </tr>\n",
       "    <tr>\n",
       "      <th>4626</th>\n",
       "      <td>sell</td>\n",
       "      <td>apartment</td>\n",
       "      <td>|Cuauhtémoc|Distrito Federal|México|</td>\n",
       "      <td>23.634501,-102.552788</td>\n",
       "      <td>2453800.0</td>\n",
       "      <td>MXN</td>\n",
       "      <td>2431602.18</td>\n",
       "      <td>129282.09</td>\n",
       "      <td>NaN</td>\n",
       "      <td>67.0</td>\n",
       "      <td>NaN</td>\n",
       "      <td>36623.880597</td>\n",
       "      <td>NaN</td>\n",
       "      <td>NaN</td>\n",
       "      <td>NaN</td>\n",
       "      <td>http://cuauhtemoc.properati.com.mx/p2op_venta_...</td>\n",
       "    </tr>\n",
       "    <tr>\n",
       "      <th>4627</th>\n",
       "      <td>sell</td>\n",
       "      <td>apartment</td>\n",
       "      <td>|Cuajimalpa de Morelos|Distrito Federal|México|</td>\n",
       "      <td>19.392937,-99.263313</td>\n",
       "      <td>2700000.0</td>\n",
       "      <td>MXN</td>\n",
       "      <td>2675574.95</td>\n",
       "      <td>142253.50</td>\n",
       "      <td>NaN</td>\n",
       "      <td>70.0</td>\n",
       "      <td>NaN</td>\n",
       "      <td>38571.428571</td>\n",
       "      <td>NaN</td>\n",
       "      <td>NaN</td>\n",
       "      <td>NaN</td>\n",
       "      <td>http://cuajimalpa-de-morelos.properati.com.mx/...</td>\n",
       "    </tr>\n",
       "  </tbody>\n",
       "</table>\n",
       "<p>3821 rows × 16 columns</p>\n",
       "</div>"
      ],
      "text/plain": [
       "     operation property_type                          place_with_parent_names  \\\n",
       "0         sell     apartment         |Miguel Hidalgo|Distrito Federal|México|   \n",
       "1         sell         house             |Iztapalapa|Distrito Federal|México|   \n",
       "2         sell     apartment                |Tlalpan|Distrito Federal|México|   \n",
       "3         sell     apartment         |Miguel Hidalgo|Distrito Federal|México|   \n",
       "5         sell     apartment         |Miguel Hidalgo|Distrito Federal|México|   \n",
       "...        ...           ...                                              ...   \n",
       "4621      sell     apartment      |Gustavo A. Madero|Distrito Federal|México|   \n",
       "4622      sell     apartment    |Venustiano Carranza|Distrito Federal|México|   \n",
       "4624      sell     apartment                |Tlalpan|Distrito Federal|México|   \n",
       "4626      sell     apartment             |Cuauhtémoc|Distrito Federal|México|   \n",
       "4627      sell     apartment  |Cuajimalpa de Morelos|Distrito Federal|México|   \n",
       "\n",
       "                     lat-lon       price currency  price_aprox_local_currency  \\\n",
       "0      23.634501,-102.552788   5500000.0      MXN                  5450245.50   \n",
       "1        19.31033,-99.068557   1512000.0      MXN                  1498321.97   \n",
       "2       19.279771,-99.234597    926667.0      MXN                   918284.00   \n",
       "3      23.634501,-102.552788   6410000.0      MXN                  6352013.39   \n",
       "5       19.432657,-99.177444   4416000.0      MXN                  4376051.62   \n",
       "...                      ...         ...      ...                         ...   \n",
       "4621                     NaN   2300000.0      MXN                  2279733.89   \n",
       "4622  19.4495981,-99.1246689   1140917.0      MXN                  1141529.80   \n",
       "4624    19.303758,-99.223733  10000000.0      MXN                 10144274.75   \n",
       "4626   23.634501,-102.552788   2453800.0      MXN                  2431602.18   \n",
       "4627    19.392937,-99.263313   2700000.0      MXN                  2675574.95   \n",
       "\n",
       "      price_aprox_usd  surface_total_in_m2  surface_covered_in_m2  \\\n",
       "0           289775.66                  NaN                   54.0   \n",
       "1            79661.96                  NaN                   80.0   \n",
       "2            48822.82                  NaN                  100.0   \n",
       "3           337720.36                  NaN                  135.0   \n",
       "5           232663.51                  NaN                   87.0   \n",
       "...               ...                  ...                    ...   \n",
       "4621        121207.64                  0.0                   88.0   \n",
       "4622         60692.23                 58.0                    NaN   \n",
       "4624        539345.23                200.0                    NaN   \n",
       "4626        129282.09                  NaN                   67.0   \n",
       "4627        142253.50                  NaN                   70.0   \n",
       "\n",
       "      price_usd_per_m2   price_per_m2  floor  rooms  expenses  \\\n",
       "0                  NaN  101851.851852    NaN    NaN       NaN   \n",
       "1                  NaN   18900.000000    NaN    NaN       NaN   \n",
       "2                  NaN    9266.670000    NaN    NaN       NaN   \n",
       "3                  NaN   47481.481481    NaN    NaN       NaN   \n",
       "5                  NaN   50758.620690    NaN    NaN       NaN   \n",
       "...                ...            ...    ...    ...       ...   \n",
       "4621               NaN   26136.363636    NaN    NaN       NaN   \n",
       "4622       1046.417759            NaN    NaN    NaN       NaN   \n",
       "4624       2696.726150            NaN    NaN    NaN       NaN   \n",
       "4626               NaN   36623.880597    NaN    NaN       NaN   \n",
       "4627               NaN   38571.428571    NaN    NaN       NaN   \n",
       "\n",
       "                                          properati_url  \n",
       "0     http://miguel-hidalgo-df.properati.com.mx/o3zb...  \n",
       "1     http://iztapalapa.properati.com.mx/q7t0_venta_...  \n",
       "2     http://tlalpan.properati.com.mx/qbi4_venta_dep...  \n",
       "3     http://miguel-hidalgo-df.properati.com.mx/opeq...  \n",
       "5     http://anzures.properati.com.mx/opct_venta_dep...  \n",
       "...                                                 ...  \n",
       "4621  http://gustavo-a-madero.properati.com.mx/pluf_...  \n",
       "4622  http://venustiano-carranza.properati.com.mx/r7...  \n",
       "4624  http://lomas-del-pedregal.properati.com.mx/pym...  \n",
       "4626  http://cuauhtemoc.properati.com.mx/p2op_venta_...  \n",
       "4627  http://cuajimalpa-de-morelos.properati.com.mx/...  \n",
       "\n",
       "[3821 rows x 16 columns]"
      ]
     },
     "execution_count": 3,
     "metadata": {},
     "output_type": "execute_result"
    }
   ],
   "source": [
    "df = pd.read_csv(\"data/mexico-city-real-estate-1.csv\")\n",
    "# df['place_with_parent_names'].str.split(\"|\", expand=True)[2]\n",
    "df[df['place_with_parent_names'].str.split(\"|\", expand=True)[2] == 'Distrito Federal']\n"
   ]
  },
  {
   "cell_type": "code",
   "execution_count": 4,
   "id": "1281a99b-8791-4efe-80cf-46e64714ad4e",
   "metadata": {
    "deletable": false
   },
   "outputs": [],
   "source": [
    "# Build your `wrangle` function\n",
    "def wrangle(file_name):\n",
    "    # Load the CSV file into a DataFrame\n",
    "    df = pd.read_csv(file_name)\n",
    "    \n",
    "    # Step 1: Subset data for apartments in Mexico City with price < $100,000\n",
    "    df = df[(df['place_with_parent_names'].str.split(\"|\", expand=True)[2] == 'Distrito Federal') & (df['price_aprox_usd'] < 100000) &\\\n",
    "           (df['property_type'] == 'apartment')]\n",
    "    \n",
    "    # Step 2: Remove outliers based on \"surface_covered_in_m2\"\n",
    "    lower_bound = df['surface_covered_in_m2'].quantile(0.1)\n",
    "    upper_bound = df['surface_covered_in_m2'].quantile(0.9)\n",
    "    df = df[(df['surface_covered_in_m2'] >= lower_bound) & (df['surface_covered_in_m2'] <= upper_bound)]\n",
    "    \n",
    "    # Step 3: Create \"lat\" and \"lon\" columns\n",
    "    df[['lat', 'lon']] = df['lat-lon'].str.split(\",\", expand=True).astype(float)\n",
    "    \n",
    "    # Step 4: Create \"borough\" feature from \"place_with_parent_names\"\n",
    "    df['borough'] = df['place_with_parent_names'].str.split(\"|\", expand=True)[1]\n",
    "    \n",
    "    # Step 5: Drop columns with more than 50% null values\n",
    "    null_threshold = len(df) * 0.5\n",
    "    df = df.dropna(thresh=null_threshold, axis=1)\n",
    "    \n",
    "    # Step 6: Drop columns with low/high-cardinality categorical values\n",
    "    cardinality_threshold = 10\n",
    "    categorical_columns = df.select_dtypes(include=['object']).columns\n",
    "    low_cardinality_cols = [col for col in categorical_columns if df[col].nunique() <= cardinality_threshold]\n",
    "    df = df.drop(columns=low_cardinality_cols)\n",
    "    \n",
    "    # Step 7: Drop columns that could cause leakage or multicollinearity\n",
    "    columns_to_drop = ['price', 'price_aprox_local_currency', 'price_per_m2', 'lat-lon', 'place_with_parent_names', 'properati_url']\n",
    "    df = df.drop(columns=columns_to_drop)\n",
    "    \n",
    "    return df\n"
   ]
  },
  {
   "cell_type": "code",
   "execution_count": 5,
   "id": "345d00ac-9305-493b-8bbd-57aa9761f7ac",
   "metadata": {
    "deletable": false,
    "tags": []
   },
   "outputs": [
    {
     "data": {
      "text/html": [
       "<div>\n",
       "<style scoped>\n",
       "    .dataframe tbody tr th:only-of-type {\n",
       "        vertical-align: middle;\n",
       "    }\n",
       "\n",
       "    .dataframe tbody tr th {\n",
       "        vertical-align: top;\n",
       "    }\n",
       "\n",
       "    .dataframe thead th {\n",
       "        text-align: right;\n",
       "    }\n",
       "</style>\n",
       "<table border=\"1\" class=\"dataframe\">\n",
       "  <thead>\n",
       "    <tr style=\"text-align: right;\">\n",
       "      <th></th>\n",
       "      <th>price_aprox_usd</th>\n",
       "      <th>surface_covered_in_m2</th>\n",
       "      <th>lat</th>\n",
       "      <th>lon</th>\n",
       "      <th>borough</th>\n",
       "    </tr>\n",
       "  </thead>\n",
       "  <tbody>\n",
       "    <tr>\n",
       "      <th>11</th>\n",
       "      <td>94022.66</td>\n",
       "      <td>57.0</td>\n",
       "      <td>23.634501</td>\n",
       "      <td>-102.552788</td>\n",
       "      <td>Benito Juárez</td>\n",
       "    </tr>\n",
       "    <tr>\n",
       "      <th>20</th>\n",
       "      <td>70880.12</td>\n",
       "      <td>56.0</td>\n",
       "      <td>19.402413</td>\n",
       "      <td>-99.095391</td>\n",
       "      <td>Iztacalco</td>\n",
       "    </tr>\n",
       "    <tr>\n",
       "      <th>21</th>\n",
       "      <td>68228.99</td>\n",
       "      <td>80.0</td>\n",
       "      <td>19.357820</td>\n",
       "      <td>-99.149406</td>\n",
       "      <td>Benito Juárez</td>\n",
       "    </tr>\n",
       "    <tr>\n",
       "      <th>22</th>\n",
       "      <td>24235.78</td>\n",
       "      <td>60.0</td>\n",
       "      <td>19.504985</td>\n",
       "      <td>-99.208557</td>\n",
       "      <td>Azcapotzalco</td>\n",
       "    </tr>\n",
       "    <tr>\n",
       "      <th>26</th>\n",
       "      <td>94140.20</td>\n",
       "      <td>50.0</td>\n",
       "      <td>19.354219</td>\n",
       "      <td>-99.126244</td>\n",
       "      <td>Coyoacán</td>\n",
       "    </tr>\n",
       "  </tbody>\n",
       "</table>\n",
       "</div>"
      ],
      "text/plain": [
       "    price_aprox_usd  surface_covered_in_m2        lat         lon  \\\n",
       "11         94022.66                   57.0  23.634501 -102.552788   \n",
       "20         70880.12                   56.0  19.402413  -99.095391   \n",
       "21         68228.99                   80.0  19.357820  -99.149406   \n",
       "22         24235.78                   60.0  19.504985  -99.208557   \n",
       "26         94140.20                   50.0  19.354219  -99.126244   \n",
       "\n",
       "          borough  \n",
       "11  Benito Juárez  \n",
       "20      Iztacalco  \n",
       "21  Benito Juárez  \n",
       "22   Azcapotzalco  \n",
       "26       Coyoacán  "
      ]
     },
     "execution_count": 5,
     "metadata": {},
     "output_type": "execute_result"
    }
   ],
   "source": [
    "# Use this cell to test your wrangle function and explore the data\n",
    "\n",
    "df_result = wrangle(\"data/mexico-city-real-estate-1.csv\")\n",
    "df_result.head()"
   ]
  },
  {
   "cell_type": "markdown",
   "id": "f47ef1c8-b073-47a1-beba-028cd71500a6",
   "metadata": {
    "deletable": false,
    "editable": false
   },
   "source": [
    "**Task 2.5.2:** Use glob to create the list `files`. It should contain the filenames of all the Mexico City real estate CSVs in the `./data` directory, except for `mexico-city-test-features.csv`."
   ]
  },
  {
   "cell_type": "code",
   "execution_count": 7,
   "id": "db087948-57b5-4feb-931c-a51830b96b03",
   "metadata": {
    "deletable": false
   },
   "outputs": [
    {
     "data": {
      "text/plain": [
       "['data/mexico-city-real-estate-2.csv',\n",
       " 'data/mexico-city-real-estate-5.csv',\n",
       " 'data/mexico-city-real-estate-1.csv',\n",
       " 'data/mexico-city-real-estate-4.csv',\n",
       " 'data/mexico-city-real-estate-3.csv']"
      ]
     },
     "execution_count": 7,
     "metadata": {},
     "output_type": "execute_result"
    }
   ],
   "source": [
    "import os\n",
    "\n",
    "files = []\n",
    "for filename in os.listdir('data'):\n",
    "    if (filename != 'mexico-city-test-features.csv') & ('mexico' in filename):\n",
    "        files.append('data/' + filename)\n",
    "files"
   ]
  },
  {
   "cell_type": "markdown",
   "id": "5ddea2e2-0b77-4115-9659-90508261c8f7",
   "metadata": {
    "deletable": false,
    "editable": false
   },
   "source": [
    "**Task 2.5.3:** Combine your `wrangle` function, a list comprehension, and `pd.concat` to create a DataFrame `df`. It should contain all the properties from the five CSVs in `files`. "
   ]
  },
  {
   "cell_type": "code",
   "execution_count": 9,
   "id": "a4cbe7ee-ab23-4337-9a93-03303bc7f91e",
   "metadata": {
    "deletable": false
   },
   "outputs": [
    {
     "name": "stdout",
     "output_type": "stream",
     "text": [
      "<class 'pandas.core.frame.DataFrame'>\n",
      "Int64Index: 5473 entries, 0 to 4622\n",
      "Data columns (total 5 columns):\n",
      " #   Column                 Non-Null Count  Dtype  \n",
      "---  ------                 --------------  -----  \n",
      " 0   price_aprox_usd        5473 non-null   float64\n",
      " 1   surface_covered_in_m2  5473 non-null   float64\n",
      " 2   lat                    5149 non-null   float64\n",
      " 3   lon                    5149 non-null   float64\n",
      " 4   borough                5473 non-null   object \n",
      "dtypes: float64(4), object(1)\n",
      "memory usage: 256.5+ KB\n",
      "None\n"
     ]
    },
    {
     "data": {
      "text/html": [
       "<div>\n",
       "<style scoped>\n",
       "    .dataframe tbody tr th:only-of-type {\n",
       "        vertical-align: middle;\n",
       "    }\n",
       "\n",
       "    .dataframe tbody tr th {\n",
       "        vertical-align: top;\n",
       "    }\n",
       "\n",
       "    .dataframe thead th {\n",
       "        text-align: right;\n",
       "    }\n",
       "</style>\n",
       "<table border=\"1\" class=\"dataframe\">\n",
       "  <thead>\n",
       "    <tr style=\"text-align: right;\">\n",
       "      <th></th>\n",
       "      <th>price_aprox_usd</th>\n",
       "      <th>surface_covered_in_m2</th>\n",
       "      <th>lat</th>\n",
       "      <th>lon</th>\n",
       "      <th>borough</th>\n",
       "    </tr>\n",
       "  </thead>\n",
       "  <tbody>\n",
       "    <tr>\n",
       "      <th>0</th>\n",
       "      <td>63223.78</td>\n",
       "      <td>88.0</td>\n",
       "      <td>19.516777</td>\n",
       "      <td>-99.160149</td>\n",
       "      <td>Gustavo A. Madero</td>\n",
       "    </tr>\n",
       "    <tr>\n",
       "      <th>1</th>\n",
       "      <td>25289.51</td>\n",
       "      <td>48.0</td>\n",
       "      <td>19.466724</td>\n",
       "      <td>-99.131614</td>\n",
       "      <td>Gustavo A. Madero</td>\n",
       "    </tr>\n",
       "    <tr>\n",
       "      <th>17</th>\n",
       "      <td>89250.90</td>\n",
       "      <td>90.0</td>\n",
       "      <td>19.383327</td>\n",
       "      <td>-99.152712</td>\n",
       "      <td>Benito Juárez</td>\n",
       "    </tr>\n",
       "    <tr>\n",
       "      <th>19</th>\n",
       "      <td>39887.51</td>\n",
       "      <td>60.0</td>\n",
       "      <td>19.388280</td>\n",
       "      <td>-99.195529</td>\n",
       "      <td>Álvaro Obregón</td>\n",
       "    </tr>\n",
       "    <tr>\n",
       "      <th>20</th>\n",
       "      <td>42475.37</td>\n",
       "      <td>80.0</td>\n",
       "      <td>19.454582</td>\n",
       "      <td>-99.145651</td>\n",
       "      <td>Cuauhtémoc</td>\n",
       "    </tr>\n",
       "  </tbody>\n",
       "</table>\n",
       "</div>"
      ],
      "text/plain": [
       "    price_aprox_usd  surface_covered_in_m2        lat        lon  \\\n",
       "0          63223.78                   88.0  19.516777 -99.160149   \n",
       "1          25289.51                   48.0  19.466724 -99.131614   \n",
       "17         89250.90                   90.0  19.383327 -99.152712   \n",
       "19         39887.51                   60.0  19.388280 -99.195529   \n",
       "20         42475.37                   80.0  19.454582 -99.145651   \n",
       "\n",
       "              borough  \n",
       "0   Gustavo A. Madero  \n",
       "1   Gustavo A. Madero  \n",
       "17      Benito Juárez  \n",
       "19     Álvaro Obregón  \n",
       "20         Cuauhtémoc  "
      ]
     },
     "execution_count": 9,
     "metadata": {},
     "output_type": "execute_result"
    }
   ],
   "source": [
    "df = pd.concat([wrangle(file) for file in files])\n",
    "print(df.info())\n",
    "df.head()"
   ]
  },
  {
   "cell_type": "markdown",
   "id": "de2683ec-8324-4f60-b4ec-fcb316770512",
   "metadata": {
    "deletable": false,
    "editable": false
   },
   "source": [
    "## Explore"
   ]
  },
  {
   "cell_type": "markdown",
   "id": "c49a4444-adb3-4193-b8d8-db7596c441e1",
   "metadata": {
    "deletable": false,
    "editable": false
   },
   "source": [
    "**Task 2.5.4:** Create a histogram showing the distribution of apartment prices (`\"price_aprox_usd\"`) in `df`. Be sure to label the x-axis `\"Price [$]\"`, the y-axis `\"Count\"`, and give it the title `\"Distribution of Apartment Prices\"`. Use Matplotlib (`plt`).\n",
    "\n",
    "What does the distribution of price look like? Is the data normal, a little skewed, or very skewed?"
   ]
  },
  {
   "cell_type": "code",
   "execution_count": 11,
   "id": "7d1f709c-fb6d-402c-9745-d9bbceae87c0",
   "metadata": {
    "deletable": false
   },
   "outputs": [
    {
     "data": {
      "image/png": "[encoded data removed]",
      "text/plain": [
       "<Figure size 432x288 with 1 Axes>"
      ]
     },
     "metadata": {
      "needs_background": "light"
     },
     "output_type": "display_data"
    }
   ],
   "source": [
    "import matplotlib.pyplot as plt\n",
    "\n",
    "# Build histogram\n",
    "plt.hist(df[\"price_aprox_usd\"])\n",
    "\n",
    "# Label axes\n",
    "plt.xlabel(\"Price [$]\")\n",
    "plt.ylabel(\"Count\")\n",
    "\n",
    "# Add title\n",
    "plt.title(\"Distribution of Apartment Prices\")\n",
    "\n",
    "# Don't delete the code below 👇\n",
    "plt.savefig(\"images/2-5-4.png\", dpi=150)\n"
   ]
  },
  {
   "cell_type": "markdown",
   "id": "3e4f18dc-04f3-451a-a772-0d605fb1b5a2",
   "metadata": {
    "deletable": false,
    "editable": false
   },
   "source": [
    "**Task 2.5.5:** Create a scatter plot that shows apartment price (`\"price_aprox_usd\"`) as a function of apartment size (`\"surface_covered_in_m2\"`). Be sure to label your x-axis `\"Area [sq meters]\"` and y-axis `\"Price [USD]\"`. Your plot should have the title `\"Mexico City: Price vs. Area\"`. Use Matplotlib (`plt`)."
   ]
  },
  {
   "cell_type": "code",
   "execution_count": 15,
   "id": "8f430f25-1a7e-435b-b5bf-2bf8427eefdd",
   "metadata": {
    "deletable": false
   },
   "outputs": [
    {
     "data": {
      "image/png": "[encoded data removed]",
      "text/plain": [
       "<Figure size 432x288 with 1 Axes>"
      ]
     },
     "metadata": {
      "needs_background": "light"
     },
     "output_type": "display_data"
    }
   ],
   "source": [
    "# Build scatter plot\n",
    "plt.scatter(df[\"surface_covered_in_m2\"], df[\"price_aprox_usd\"])\n",
    "\n",
    "# Label axes\n",
    "plt.xlabel(\"Area [sq meters\")\n",
    "plt.ylabel(\"price_aprox_usd\")\n",
    "\n",
    "# Add title\n",
    "plt.title(\"Mexico City: Price vs. Area\")\n",
    "\n",
    "# Don't delete the code below 👇\n",
    "plt.savefig(\"images/2-5-5.png\", dpi=150)\n"
   ]
  },
  {
   "cell_type": "markdown",
   "id": "5670726a-411e-42d5-832f-d522d5b44a50",
   "metadata": {
    "deletable": false,
    "editable": false
   },
   "source": [
    "Do you see a relationship between price and area in the data? How is this similar to or different from the Buenos Aires dataset?<span style='color: transparent; font-size:1%'>WQU WorldQuant University Applied Data Science Lab QQQQ</span>"
   ]
  },
  {
   "cell_type": "markdown",
   "id": "095bc111-55a9-40c2-b322-4ab50c617750",
   "metadata": {
    "deletable": false,
    "editable": false
   },
   "source": [
    "**Task 2.5.6:** **(UNGRADED)** Create a Mapbox scatter plot that shows the location of the apartments in your dataset and represent their price using color. \n",
    "\n",
    "What areas of the city seem to have higher real estate prices?"
   ]
  },
  {
   "cell_type": "code",
   "execution_count": null,
   "id": "d07fc514-897c-4399-87e1-97c930bf8a66",
   "metadata": {
    "deletable": false
   },
   "outputs": [],
   "source": [
    "# Plot Mapbox location and price\n",
    "fig = ...\n",
    "\n",
    "\n",
    "fig.show()"
   ]
  },
  {
   "cell_type": "markdown",
   "id": "1d9f5ee7-348c-407b-a8ce-b4a79f7a0cc4",
   "metadata": {
    "deletable": false,
    "editable": false
   },
   "source": [
    "## Split"
   ]
  },
  {
   "cell_type": "markdown",
   "id": "f943c3ec-c299-4941-996c-4ea4a21a14f5",
   "metadata": {
    "deletable": false,
    "editable": false
   },
   "source": [
    "**Task 2.5.7:** Create your feature matrix `X_train` and target vector `y_train`. Your target is `\"price_aprox_usd\"`. Your features should be all the columns that remain in the DataFrame you cleaned above."
   ]
  },
  {
   "cell_type": "code",
   "execution_count": 19,
   "id": "eac77c6c-b0e3-4d84-af72-f75270c11187",
   "metadata": {
    "deletable": false
   },
   "outputs": [],
   "source": [
    "# Split data into feature matrix `X_train` and target vector `y_train`.\n",
    "\n",
    "X_train = df[[\"surface_covered_in_m2\", \"lat\", \"lon\", \"borough\"]]\n",
    "y_train = df[\"price_aprox_usd\"]"
   ]
  },
  {
   "cell_type": "markdown",
   "id": "df817f6c-ca21-49d0-be84-7af163041ca5",
   "metadata": {
    "deletable": false,
    "editable": false
   },
   "source": [
    "# Build Model"
   ]
  },
  {
   "cell_type": "markdown",
   "id": "2ddaad75-ef9c-49c0-a963-4348483e7201",
   "metadata": {
    "deletable": false,
    "editable": false
   },
   "source": [
    "## Baseline"
   ]
  },
  {
   "cell_type": "markdown",
   "id": "6cdda106-0d7a-426d-aa9d-94ed60702c32",
   "metadata": {
    "deletable": false,
    "editable": false
   },
   "source": [
    "**Task 2.5.8:** Calculate the baseline mean absolute error for your model."
   ]
  },
  {
   "cell_type": "code",
   "execution_count": 27,
   "id": "3a998470-7558-4c2a-8681-ea76d9b2ae16",
   "metadata": {
    "deletable": false
   },
   "outputs": [
    {
     "name": "stdout",
     "output_type": "stream",
     "text": [
      "Mean apt price: 54246.5314982642\n",
      "Baseline MAE: 17239.939475888295\n"
     ]
    }
   ],
   "source": [
    "from sklearn.metrics import mean_absolute_error\n",
    "\n",
    "y_mean = y_train.mean()\n",
    "y_pred_baseline = [y_mean] * len(y_train)\n",
    "baseline_mae = mean_absolute_error(y_pred_baseline, y_train)\n",
    "print(\"Mean apt price:\", y_mean)\n",
    "print(\"Baseline MAE:\", baseline_mae)"
   ]
  },
  {
   "cell_type": "markdown",
   "id": "0b5e8c7d-dbd3-4405-a048-475a0150578b",
   "metadata": {
    "deletable": false,
    "editable": false
   },
   "source": [
    "## Iterate"
   ]
  },
  {
   "cell_type": "markdown",
   "id": "d43cc258-e24e-4231-8638-7b80df4636dc",
   "metadata": {
    "deletable": false,
    "editable": false
   },
   "source": [
    "**Task 2.5.9:** Create a pipeline named `model` that contains all the transformers necessary for this dataset and one of the predictors you've used during this project. Then fit your model to the training data."
   ]
  },
  {
   "cell_type": "code",
   "execution_count": 30,
   "id": "a2055448-7694-42a3-94ed-051a5c7b45fd",
   "metadata": {
    "deletable": false
   },
   "outputs": [
    {
     "data": {
      "text/html": [
       "<style>#sk-container-id-1 {color: black;background-color: white;}#sk-container-id-1 pre{padding: 0;}#sk-container-id-1 div.sk-toggleable {background-color: white;}#sk-container-id-1 label.sk-toggleable__label {cursor: pointer;display: block;width: 100%;margin-bottom: 0;padding: 0.3em;box-sizing: border-box;text-align: center;}#sk-container-id-1 label.sk-toggleable__label-arrow:before {content: \"▸\";float: left;margin-right: 0.25em;color: #696969;}#sk-container-id-1 label.sk-toggleable__label-arrow:hover:before {color: black;}#sk-container-id-1 div.sk-estimator:hover label.sk-toggleable__label-arrow:before {color: black;}#sk-container-id-1 div.sk-toggleable__content {max-height: 0;max-width: 0;overflow: hidden;text-align: left;background-color: #f0f8ff;}#sk-container-id-1 div.sk-toggleable__content pre {margin: 0.2em;color: black;border-radius: 0.25em;background-color: #f0f8ff;}#sk-container-id-1 input.sk-toggleable__control:checked~div.sk-toggleable__content {max-height: 200px;max-width: 100%;overflow: auto;}#sk-container-id-1 input.sk-toggleable__control:checked~label.sk-toggleable__label-arrow:before {content: \"▾\";}#sk-container-id-1 div.sk-estimator input.sk-toggleable__control:checked~label.sk-toggleable__label {background-color: #d4ebff;}#sk-container-id-1 div.sk-label input.sk-toggleable__control:checked~label.sk-toggleable__label {background-color: #d4ebff;}#sk-container-id-1 input.sk-hidden--visually {border: 0;clip: rect(1px 1px 1px 1px);clip: rect(1px, 1px, 1px, 1px);height: 1px;margin: -1px;overflow: hidden;padding: 0;position: absolute;width: 1px;}#sk-container-id-1 div.sk-estimator {font-family: monospace;background-color: #f0f8ff;border: 1px dotted black;border-radius: 0.25em;box-sizing: border-box;margin-bottom: 0.5em;}#sk-container-id-1 div.sk-estimator:hover {background-color: #d4ebff;}#sk-container-id-1 div.sk-parallel-item::after {content: \"\";width: 100%;border-bottom: 1px solid gray;flex-grow: 1;}#sk-container-id-1 div.sk-label:hover label.sk-toggleable__label {background-color: #d4ebff;}#sk-container-id-1 div.sk-serial::before {content: \"\";position: absolute;border-left: 1px solid gray;box-sizing: border-box;top: 0;bottom: 0;left: 50%;z-index: 0;}#sk-container-id-1 div.sk-serial {display: flex;flex-direction: column;align-items: center;background-color: white;padding-right: 0.2em;padding-left: 0.2em;position: relative;}#sk-container-id-1 div.sk-item {position: relative;z-index: 1;}#sk-container-id-1 div.sk-parallel {display: flex;align-items: stretch;justify-content: center;background-color: white;position: relative;}#sk-container-id-1 div.sk-item::before, #sk-container-id-1 div.sk-parallel-item::before {content: \"\";position: absolute;border-left: 1px solid gray;box-sizing: border-box;top: 0;bottom: 0;left: 50%;z-index: -1;}#sk-container-id-1 div.sk-parallel-item {display: flex;flex-direction: column;z-index: 1;position: relative;background-color: white;}#sk-container-id-1 div.sk-parallel-item:first-child::after {align-self: flex-end;width: 50%;}#sk-container-id-1 div.sk-parallel-item:last-child::after {align-self: flex-start;width: 50%;}#sk-container-id-1 div.sk-parallel-item:only-child::after {width: 0;}#sk-container-id-1 div.sk-dashed-wrapped {border: 1px dashed gray;margin: 0 0.4em 0.5em 0.4em;box-sizing: border-box;padding-bottom: 0.4em;background-color: white;}#sk-container-id-1 div.sk-label label {font-family: monospace;font-weight: bold;display: inline-block;line-height: 1.2em;}#sk-container-id-1 div.sk-label-container {text-align: center;}#sk-container-id-1 div.sk-container {/* jupyter's `normalize.less` sets `[hidden] { display: none; }` but bootstrap.min.css set `[hidden] { display: none !important; }` so we also need the `!important` here to be able to override the default hidden behavior on the sphinx rendered scikit-learn.org. See: https://github.com/scikit-learn/scikit-learn/issues/21755 */display: inline-block !important;position: relative;}#sk-container-id-1 div.sk-text-repr-fallback {display: none;}</style><div id=\"sk-container-id-1\" class=\"sk-top-container\"><div class=\"sk-text-repr-fallback\"><pre>Pipeline(steps=[(&#x27;onehotencoder&#x27;,\n",
       "                 OneHotEncoder(cols=[&#x27;borough&#x27;], use_cat_names=True)),\n",
       "                (&#x27;simpleimputer&#x27;, SimpleImputer()), (&#x27;ridge&#x27;, Ridge())])</pre><b>In a Jupyter environment, please rerun this cell to show the HTML representation or trust the notebook. <br />On GitHub, the HTML representation is unable to render, please try loading this page with nbviewer.org.</b></div><div class=\"sk-container\" hidden><div class=\"sk-item sk-dashed-wrapped\"><div class=\"sk-label-container\"><div class=\"sk-label sk-toggleable\"><input class=\"sk-toggleable__control sk-hidden--visually\" id=\"sk-estimator-id-1\" type=\"checkbox\" ><label for=\"sk-estimator-id-1\" class=\"sk-toggleable__label sk-toggleable__label-arrow\">Pipeline</label><div class=\"sk-toggleable__content\"><pre>Pipeline(steps=[(&#x27;onehotencoder&#x27;,\n",
       "                 OneHotEncoder(cols=[&#x27;borough&#x27;], use_cat_names=True)),\n",
       "                (&#x27;simpleimputer&#x27;, SimpleImputer()), (&#x27;ridge&#x27;, Ridge())])</pre></div></div></div><div class=\"sk-serial\"><div class=\"sk-item\"><div class=\"sk-estimator sk-toggleable\"><input class=\"sk-toggleable__control sk-hidden--visually\" id=\"sk-estimator-id-2\" type=\"checkbox\" ><label for=\"sk-estimator-id-2\" class=\"sk-toggleable__label sk-toggleable__label-arrow\">OneHotEncoder</label><div class=\"sk-toggleable__content\"><pre>OneHotEncoder(cols=[&#x27;borough&#x27;], use_cat_names=True)</pre></div></div></div><div class=\"sk-item\"><div class=\"sk-estimator sk-toggleable\"><input class=\"sk-toggleable__control sk-hidden--visually\" id=\"sk-estimator-id-3\" type=\"checkbox\" ><label for=\"sk-estimator-id-3\" class=\"sk-toggleable__label sk-toggleable__label-arrow\">SimpleImputer</label><div class=\"sk-toggleable__content\"><pre>SimpleImputer()</pre></div></div></div><div class=\"sk-item\"><div class=\"sk-estimator sk-toggleable\"><input class=\"sk-toggleable__control sk-hidden--visually\" id=\"sk-estimator-id-4\" type=\"checkbox\" ><label for=\"sk-estimator-id-4\" class=\"sk-toggleable__label sk-toggleable__label-arrow\">Ridge</label><div class=\"sk-toggleable__content\"><pre>Ridge()</pre></div></div></div></div></div></div></div>"
      ],
      "text/plain": [
       "Pipeline(steps=[('onehotencoder',\n",
       "                 OneHotEncoder(cols=['borough'], use_cat_names=True)),\n",
       "                ('simpleimputer', SimpleImputer()), ('ridge', Ridge())])"
      ]
     },
     "execution_count": 30,
     "metadata": {},
     "output_type": "execute_result"
    }
   ],
   "source": [
    "from category_encoders import OneHotEncoder\n",
    "from sklearn.linear_model import LinearRegression, Ridge  # noqa F401\n",
    "from sklearn.impute import SimpleImputer\n",
    "from sklearn.pipeline import make_pipeline\n",
    "\n",
    "# Build Model\n",
    "model = make_pipeline(\n",
    "    OneHotEncoder(use_cat_names=True),\n",
    "    SimpleImputer(),\n",
    "    Ridge()\n",
    ")\n",
    "# Fit model\n",
    "model.fit(X_train, y_train)"
   ]
  },
  {
   "cell_type": "markdown",
   "id": "432b2c22-9c54-4326-84a7-0f34d99ff193",
   "metadata": {
    "deletable": false,
    "editable": false
   },
   "source": [
    "## Evaluate"
   ]
  },
  {
   "cell_type": "markdown",
   "id": "157be0ad-80c4-4b2a-9b44-60ffd2dd9c84",
   "metadata": {
    "deletable": false,
    "editable": false
   },
   "source": [
    "**Task 2.5.10:** Read the CSV file `mexico-city-test-features.csv` into the DataFrame `X_test`."
   ]
  },
  {
   "cell_type": "markdown",
   "id": "d71a31f5-3f69-4c4f-9541-62d9a9e0e2c4",
   "metadata": {
    "deletable": false,
    "editable": false
   },
   "source": [
    "<div class=\"alert alert-block alert-info\">\n",
    "<b>Tip:</b> Make sure the <code>X_train</code> you used to train your model has the same column order as <code>X_test</code>. Otherwise, it may hurt your model's performance.\n",
    "</div>"
   ]
  },
  {
   "cell_type": "code",
   "execution_count": 33,
   "id": "9fcb2d73-9c22-4e0c-b6d0-02318981c3d0",
   "metadata": {
    "deletable": false
   },
   "outputs": [
    {
     "name": "stdout",
     "output_type": "stream",
     "text": [
      "<class 'pandas.core.frame.DataFrame'>\n",
      "RangeIndex: 1041 entries, 0 to 1040\n",
      "Data columns (total 4 columns):\n",
      " #   Column                 Non-Null Count  Dtype  \n",
      "---  ------                 --------------  -----  \n",
      " 0   surface_covered_in_m2  1041 non-null   float64\n",
      " 1   lat                    986 non-null    float64\n",
      " 2   lon                    986 non-null    float64\n",
      " 3   borough                1041 non-null   object \n",
      "dtypes: float64(3), object(1)\n",
      "memory usage: 32.7+ KB\n",
      "None\n"
     ]
    },
    {
     "data": {
      "text/html": [
       "<div>\n",
       "<style scoped>\n",
       "    .dataframe tbody tr th:only-of-type {\n",
       "        vertical-align: middle;\n",
       "    }\n",
       "\n",
       "    .dataframe tbody tr th {\n",
       "        vertical-align: top;\n",
       "    }\n",
       "\n",
       "    .dataframe thead th {\n",
       "        text-align: right;\n",
       "    }\n",
       "</style>\n",
       "<table border=\"1\" class=\"dataframe\">\n",
       "  <thead>\n",
       "    <tr style=\"text-align: right;\">\n",
       "      <th></th>\n",
       "      <th>surface_covered_in_m2</th>\n",
       "      <th>lat</th>\n",
       "      <th>lon</th>\n",
       "      <th>borough</th>\n",
       "    </tr>\n",
       "  </thead>\n",
       "  <tbody>\n",
       "    <tr>\n",
       "      <th>0</th>\n",
       "      <td>60.0</td>\n",
       "      <td>19.493185</td>\n",
       "      <td>-99.205755</td>\n",
       "      <td>Azcapotzalco</td>\n",
       "    </tr>\n",
       "    <tr>\n",
       "      <th>1</th>\n",
       "      <td>55.0</td>\n",
       "      <td>19.307247</td>\n",
       "      <td>-99.166700</td>\n",
       "      <td>Coyoacán</td>\n",
       "    </tr>\n",
       "    <tr>\n",
       "      <th>2</th>\n",
       "      <td>50.0</td>\n",
       "      <td>19.363469</td>\n",
       "      <td>-99.010141</td>\n",
       "      <td>Iztapalapa</td>\n",
       "    </tr>\n",
       "    <tr>\n",
       "      <th>3</th>\n",
       "      <td>60.0</td>\n",
       "      <td>19.474655</td>\n",
       "      <td>-99.189277</td>\n",
       "      <td>Azcapotzalco</td>\n",
       "    </tr>\n",
       "    <tr>\n",
       "      <th>4</th>\n",
       "      <td>74.0</td>\n",
       "      <td>19.394628</td>\n",
       "      <td>-99.143842</td>\n",
       "      <td>Benito Juárez</td>\n",
       "    </tr>\n",
       "  </tbody>\n",
       "</table>\n",
       "</div>"
      ],
      "text/plain": [
       "   surface_covered_in_m2        lat        lon        borough\n",
       "0                   60.0  19.493185 -99.205755   Azcapotzalco\n",
       "1                   55.0  19.307247 -99.166700       Coyoacán\n",
       "2                   50.0  19.363469 -99.010141     Iztapalapa\n",
       "3                   60.0  19.474655 -99.189277   Azcapotzalco\n",
       "4                   74.0  19.394628 -99.143842  Benito Juárez"
      ]
     },
     "execution_count": 33,
     "metadata": {},
     "output_type": "execute_result"
    }
   ],
   "source": [
    "df_test = pd.read_csv(\"data/mexico-city-test-features.csv\")\n",
    "X_test = df_test[[\"surface_covered_in_m2\", \"lat\", \"lon\", \"borough\"]]\n",
    "print(X_test.info())\n",
    "X_test.head()"
   ]
  },
  {
   "cell_type": "markdown",
   "id": "a7dfeb49-87ba-4eac-9502-b2851a8f3da9",
   "metadata": {
    "deletable": false,
    "editable": false
   },
   "source": [
    "**Task 2.5.11:** Use your model to generate a Series of predictions for `X_test`. When you submit your predictions to the grader, it will calculate the mean absolute error for your model."
   ]
  },
  {
   "cell_type": "code",
   "execution_count": 37,
   "id": "ff1f3096-cab7-4ef6-8f18-d64fe5fc6a6f",
   "metadata": {
    "deletable": false
   },
   "outputs": [
    {
     "data": {
      "text/plain": [
       "0    53538.366480\n",
       "1    53171.988369\n",
       "2    34263.884179\n",
       "3    53488.425607\n",
       "4    68738.924884\n",
       "dtype: float64"
      ]
     },
     "execution_count": 37,
     "metadata": {},
     "output_type": "execute_result"
    }
   ],
   "source": [
    "y_test_pred = pd.Series(model.predict(X_test))\n",
    "y_test_pred.head()"
   ]
  },
  {
   "cell_type": "markdown",
   "id": "61a510f1-d69d-40ba-838d-208d1cda2275",
   "metadata": {
    "deletable": false,
    "editable": false
   },
   "source": [
    "# Communicate Results"
   ]
  },
  {
   "cell_type": "markdown",
   "id": "087e1df2-8025-4f95-b3b0-3071ff4aebd3",
   "metadata": {
    "deletable": false,
    "editable": false
   },
   "source": [
    "**Task 2.5.12:** Create a Series named `feat_imp`. The index should contain the names of all the features your model considers when making predictions; the values should be the coefficient values associated with each feature. The Series should be sorted ascending by absolute value.  "
   ]
  },
  {
   "cell_type": "code",
   "execution_count": 68,
   "id": "8c52a764-6041-4765-bf99-5c330d567e5e",
   "metadata": {
    "deletable": false
   },
   "outputs": [
    {
     "data": {
      "text/plain": [
       "surface_covered_in_m2               291.654156\n",
       "borough_Cuauhtémoc                 -350.531990\n",
       "borough_Iztacalco                   405.403127\n",
       "lat                                 478.901375\n",
       "borough_Xochimilco                  929.857400\n",
       "borough_Miguel Hidalgo             1977.314718\n",
       "borough_Azcapotzalco               2459.288646\n",
       "lon                               -2492.221814\n",
       "borough_Álvaro Obregón             3275.121061\n",
       "borough_Coyoacán                   3737.561001\n",
       "borough_Venustiano Carranza       -5609.918629\n",
       "borough_La Magdalena Contreras    -5925.666450\n",
       "borough_Gustavo A. Madero         -6637.429757\n",
       "borough_Cuajimalpa de Morelos      9157.269123\n",
       "borough_Tlalpan                   10319.429804\n",
       "borough_Iztapalapa               -13349.017448\n",
       "borough_Benito Juárez             13778.188880\n",
       "borough_Tláhuac                  -14166.869486\n",
       "dtype: float64"
      ]
     },
     "execution_count": 68,
     "metadata": {},
     "output_type": "execute_result"
    }
   ],
   "source": [
    "coefficients = model[2].coef_\n",
    "features = pd.Series(coefficients, index=model[0].transform(X_train).columns)\n",
    "feat_imp = features.abs().sort_values()\n",
    "for idx in feat_imp.index:\n",
    "    feat_imp[idx] = features[idx]\n",
    "feat_imp"
   ]
  },
  {
   "cell_type": "code",
   "execution_count": 74,
   "id": "dcccdce7-4e09-4a54-a545-bf25050b23cc",
   "metadata": {},
   "outputs": [
    {
     "data": {
      "text/plain": [
       "array([  3275.12106108,   3737.56100072,  -5609.91862933,  -5925.66645029,\n",
       "        -6637.42975669,   9157.26912312,  10319.42980445, -13349.01744766,\n",
       "        13778.18887983, -14166.86948588])"
      ]
     },
     "execution_count": 74,
     "metadata": {},
     "output_type": "execute_result"
    }
   ],
   "source": [
    "feat_imp[8:].values"
   ]
  },
  {
   "cell_type": "markdown",
   "id": "34eab663-5a3d-4e33-afef-7871c8023c21",
   "metadata": {
    "deletable": false,
    "editable": false
   },
   "source": [
    "**Task 2.5.13:** Create a horizontal bar chart that shows the **10 most influential** coefficients for your model. Be sure to label your x- and y-axis `\"Importance [USD]\"` and `\"Feature\"`, respectively, and give your chart the title `\"Feature Importances for Apartment Price\"`. Use pandas. "
   ]
  },
  {
   "cell_type": "code",
   "execution_count": 79,
   "id": "848059a6-a548-4530-9e08-6beacd9ca4c6",
   "metadata": {
    "deletable": false
   },
   "outputs": [
    {
     "data": {
      "image/png": "[encoded data removed]",
      "text/plain": [
       "<Figure size 432x288 with 1 Axes>"
      ]
     },
     "metadata": {
      "needs_background": "light"
     },
     "output_type": "display_data"
    }
   ],
   "source": [
    "# Build bar chart\n",
    "plt.barh(feat_imp[8:].index, feat_imp[8:].values)\n",
    "\n",
    "# Label axes\n",
    "plt.xlabel(\"Importance [USD]\")\n",
    "plt.ylabel(\"Feature\")\n",
    "\n",
    "# Add title\n",
    "plt.title(\"Feature Importances for Apartment Price\")\n",
    "\n",
    "\n",
    "# Don't delete the code below 👇\n",
    "plt.savefig(\"images/2-5-13.png\", dpi=150)\n"
   ]
  },
  {
   "cell_type": "markdown",
   "id": "fb0aaecc",
   "metadata": {
    "deletable": false,
    "editable": false
   },
   "source": [
    "---\n",
    "Copyright 2022 WorldQuant University. This\n",
    "content is licensed solely for personal use. Redistribution or\n",
    "publication of this material is strictly prohibited.\n"
   ]
  }
 ],
 "metadata": {
  "kernelspec": {
   "display_name": "Python 3 (ipykernel)",
   "language": "python",
   "name": "python3"
  },
  "language_info": {
   "codemirror_mode": {
    "name": "ipython",
    "version": 3
   },
   "file_extension": ".py",
   "mimetype": "text/x-python",
   "name": "python",
   "nbconvert_exporter": "python",
   "pygments_lexer": "ipython3",
   "version": "3.9.6"
  }
 },
 "nbformat": 4,
 "nbformat_minor": 5
}
